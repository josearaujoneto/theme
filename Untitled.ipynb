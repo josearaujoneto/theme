{
 "cells": [
  {
   "cell_type": "code",
   "execution_count": null,
   "id": "50b49b17-114e-4dee-8e73-552dbd4ac3e7",
   "metadata": {},
   "outputs": [],
   "source": [
    "54452453464gmhgmg"
   ]
  }
 ],
 "metadata": {
  "kernelspec": {
   "display_name": "Python 3 (ipykernel)",
   "language": "python",
   "name": "python3"
  },
  "language_info": {
   "codemirror_mode": {
    "name": "ipython",
    "version": 3
   },
   "file_extension": ".py",
   "mimetype": "text/x-python",
   "name": "python",
   "nbconvert_exporter": "python",
   "pygments_lexer": "ipython3",
   "version": "3.13.2"
  }
 },
 "nbformat": 4,
 "nbformat_minor": 5
}
